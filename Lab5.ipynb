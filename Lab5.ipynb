{
  "nbformat": 4,
  "nbformat_minor": 0,
  "metadata": {
    "colab": {
      "provenance": []
    },
    "kernelspec": {
      "name": "python3",
      "display_name": "Python 3"
    },
    "language_info": {
      "name": "python"
    }
  },
  "cells": [
    {
      "cell_type": "markdown",
      "source": [
        "#***Array***"
      ],
      "metadata": {
        "id": "NJpgb2xDxUA-"
      }
    },
    {
      "cell_type": "code",
      "source": [
        "class stack_using_array:\n",
        "    stack = []\n",
        "    pointer = -1\n",
        "\n",
        "    def push(self, elem):\n",
        "        self.stack.append(elem)\n",
        "        self.pointer += 1\n",
        "\n",
        "    def peek(self):\n",
        "        return self.stack[self.pointer]\n",
        "\n",
        "    def pop(self):\n",
        "        val = self.stack[self.pointer]\n",
        "        self.stack = self.stack[:-1]\n",
        "        self.pointer -= 1\n",
        "        return val\n",
        "\n",
        "    def check_paren(self, equation):\n",
        "        check_err = False\n",
        "        position = []\n",
        "        opening_paren = [\"[\", \"{\", \"(\"]\n",
        "        closing_paren = [\"]\", \"}\", \")\"]\n",
        "        for i in range(len(equation)):\n",
        "            if equation[i] in opening_paren:\n",
        "                self.push(equation[i])\n",
        "                position.append(i + 1)\n",
        "            elif equation[i] in closing_paren:\n",
        "                if self.pointer > -1:\n",
        "                    peek_check = self.peek()\n",
        "                    if (peek_check == \"(\" and equation[i] == \")\") or (peek_check == \"{\" and equation[i] == \"}\") \\\n",
        "                            or (peek_check == \"[\" and equation[i] == \"]\"):\n",
        "                        self.pop()\n",
        "                    else:\n",
        "                        error_position = position[-1]\n",
        "                        output = \"Error at character #\" + str(error_position) + \". '\" + peek_check + \"'- not closed.\"\n",
        "                        check_err = True\n",
        "\n",
        "                    position = position[:-1]\n",
        "                else:\n",
        "                    error_position = i + 1\n",
        "                    output = \"Error at character #\" + str(error_position) + \". '\" + equation[i] + \"'- not opened.\"\n",
        "                    check_err = True\n",
        "                    break\n",
        "\n",
        "        if check_err:\n",
        "            print(equation)\n",
        "            print(\"This expression is NOT correct.\")\n",
        "            print(output)\n",
        "        elif not check_err:\n",
        "            print(equation)\n",
        "            print(\"This expression is correct.\")\n",
        "\n",
        "\n",
        "print(\"========Array Based Stack========\")\n",
        "a = \"1+2*(3/4)\"\n",
        "a_1 = stack_using_array()\n",
        "a_1.check_paren(a)\n",
        "print()\n",
        "b = \"1+2*[3*3+{4–5(6(7/8/9)+10)–11+(12*8)]+14\"\n",
        "a_2 = stack_using_array()\n",
        "a_2.check_paren(b)\n",
        "print()\n",
        "c = \"1+2*[3*3+{4–5(6(7/8/9)+10)}–11+(12*8)/{13+13}]+14\"\n",
        "a_3 = stack_using_array()\n",
        "a_3.check_paren(c)\n",
        "print()\n",
        "d = \"1+2]*[3*3+{4–5(6(7/8/9)+10)–11+(12*8)]+14\"\n",
        "a_4 = stack_using_array()\n",
        "a_4.check_paren(d)\n"
      ],
      "metadata": {
        "colab": {
          "base_uri": "https://localhost:8080/"
        },
        "id": "dKQVWl0Soxct",
        "outputId": "d8397c8a-4695-451f-c22c-64cb53c4d594"
      },
      "execution_count": 14,
      "outputs": [
        {
          "output_type": "stream",
          "name": "stdout",
          "text": [
            "========Array Based Stack========\n",
            "1+2*(3/4)\n",
            "This expression is correct.\n",
            "\n",
            "1+2*[3*3+{4–5(6(7/8/9)+10)–11+(12*8)]+14\n",
            "This expression is NOT correct.\n",
            "Error at character #10. '{'- not closed.\n",
            "\n",
            "1+2*[3*3+{4–5(6(7/8/9)+10)}–11+(12*8)/{13+13}]+14\n",
            "This expression is NOT correct.\n",
            "Error at character #5. '('- not closed.\n",
            "\n",
            "1+2]*[3*3+{4–5(6(7/8/9)+10)–11+(12*8)]+14\n",
            "This expression is NOT correct.\n",
            "Error at character #4. ']'- not opened.\n"
          ]
        }
      ]
    },
    {
      "cell_type": "markdown",
      "source": [
        "#***Linked List***"
      ],
      "metadata": {
        "id": "uMjuzFY3xd2m"
      }
    },
    {
      "cell_type": "code",
      "source": [
        "class Node:\n",
        "    def __init__(self, e):\n",
        "        self.element = e\n",
        "        self.next = None\n",
        "\n",
        "\n",
        "class stack_using_linkedlist:\n",
        "    head = None\n",
        "    elem_no = 0\n",
        "\n",
        "    def push(self, elem):\n",
        "        self.elem_no += 1\n",
        "        if self.head is None:\n",
        "            self.head = Node(elem)\n",
        "        else:\n",
        "            n = Node(elem)\n",
        "            n.next = self.head\n",
        "            self.head = n\n",
        "\n",
        "    def peek(self):\n",
        "        if self.head is not None:\n",
        "            return self.head.element\n",
        "        else:\n",
        "            return None\n",
        "\n",
        "    def pop(self):\n",
        "        self.elem_no -= 1\n",
        "        temp = self.head\n",
        "        self.head = self.head.next\n",
        "        temp.element = None\n",
        "        temp.next = None\n",
        "\n",
        "    def check_paren(self, equation):\n",
        "        check_err = False\n",
        "        position = []\n",
        "        opening_paren = [\"[\", \"{\", \"(\"]\n",
        "        ending_paren = [\"]\", \"}\", \")\"]\n",
        "        for i in range(len(equation)):\n",
        "            if equation[i] in opening_paren:\n",
        "                self.push(equation[i])\n",
        "                position.append(i + 1)\n",
        "            elif equation[i] in ending_paren:\n",
        "                head_check = self.peek()\n",
        "                if self.elem_no == 0:\n",
        "                    output = \"Error at character #\" + str(i + 1) + \". '\" + equation[i] + \"'- not opened.\"\n",
        "                    check_err = True\n",
        "                    break\n",
        "                else:\n",
        "                    if (head_check == \"(\" and equation[i] == \")\") or (head_check == \"{\" and equation[i] == \"}\") or (\n",
        "                            head_check == \"[\" and equation[i] == \"]\"):\n",
        "                        self.pop()\n",
        "                    else:\n",
        "                        output = \"Error at character #\" + str(position[-1]) + \". '\" + head_check + \"'- not closed.\"\n",
        "                        check_err = True\n",
        "                    position = position[:-1]\n",
        "        if check_err:\n",
        "            print(equation)\n",
        "            print(\"This expression is NOT correct.\")\n",
        "            print(output)\n",
        "        elif not check_err:\n",
        "            print(equation)\n",
        "            print(\"This expression is correct.\")\n",
        "\n",
        "\n",
        "print(\"========Linked List Based Stack========\")\n",
        "p = \"1+2*(3/4)\"\n",
        "lls_1 = stack_using_linkedlist()\n",
        "lls_1.check_paren(p)\n",
        "print()\n",
        "q = \"1+2*[3*3+{4–5(6(7/8/9)+10)–11+(12*8)]+14\"\n",
        "lls_2 = stack_using_linkedlist()\n",
        "lls_2.check_paren(q)\n",
        "print()\n",
        "r = \"1+2*[3*3+{4–5(6(7/8/9)+10)}–11+(12*8)/{13+13}]+14\"\n",
        "lls_3 = stack_using_linkedlist()\n",
        "lls_3.check_paren(r)\n",
        "print()\n",
        "s = \"1+2]*[3*3+{4–5(6(7/8/9)+10)–11+(12*8)]+14\"\n",
        "lls_4 = stack_using_linkedlist()\n",
        "lls_4.check_paren(s)\n"
      ],
      "metadata": {
        "colab": {
          "base_uri": "https://localhost:8080/"
        },
        "id": "dCXFwH6ruRuW",
        "outputId": "37643b3f-2726-4e14-f8aa-242807246996"
      },
      "execution_count": 19,
      "outputs": [
        {
          "output_type": "stream",
          "name": "stdout",
          "text": [
            "========Linked List Based Stack========\n",
            "1+2*(3/4)\n",
            "This expression is correct.\n",
            "\n",
            "1+2*[3*3+{4–5(6(7/8/9)+10)–11+(12*8)]+14\n",
            "This expression is NOT correct.\n",
            "Error at character #10. '{'- not closed.\n",
            "\n",
            "1+2*[3*3+{4–5(6(7/8/9)+10)}–11+(12*8)/{13+13}]+14\n",
            "This expression is correct.\n",
            "\n",
            "1+2]*[3*3+{4–5(6(7/8/9)+10)–11+(12*8)]+14\n",
            "This expression is NOT correct.\n",
            "Error at character #4. ']'- not opened.\n"
          ]
        }
      ]
    }
  ]
}