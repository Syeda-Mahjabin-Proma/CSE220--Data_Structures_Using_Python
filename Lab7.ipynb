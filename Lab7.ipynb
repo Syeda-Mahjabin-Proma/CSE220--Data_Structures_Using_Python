{
  "nbformat": 4,
  "nbformat_minor": 0,
  "metadata": {
    "colab": {
      "provenance": []
    },
    "kernelspec": {
      "name": "python3",
      "display_name": "Python 3"
    },
    "language_info": {
      "name": "python"
    }
  },
  "cells": [
    {
      "cell_type": "code",
      "source": [
        "class KeyIndex:\n",
        "    def __init__(self, a):\n",
        "        self.arr = a\n",
        "        self.min = 0\n",
        "        for i in a:\n",
        "            if self.min > i:\n",
        "                self.min = i\n",
        "        # print(\"Min Val:\", self.min)\n",
        "        \n",
        "        new_arr = [x - self.min for x in a]\n",
        "        # print(new_arr)\n",
        "        \n",
        "        self.max = 0\n",
        "        for i in new_arr:\n",
        "            if self.max < i:\n",
        "                self.max = i\n",
        "        # print(\"self.max Val:\", self.max)\n",
        "        \n",
        "        self.aux_arr = [0] * (self.max + 1)\n",
        "        for y in range(len(new_arr)):\n",
        "            self.aux_arr[new_arr[y]] += 1\n",
        "        # print(self.aux_arr)\n",
        "\n",
        "    def search(self, val):\n",
        "        x = False\n",
        "        if self.aux_arr[val + self.min] > 0:\n",
        "            x = True\n",
        "\n",
        "        return x\n",
        "\n",
        "    def sort(self):\n",
        "        i = 0\n",
        "        for k in range(len(self.aux_arr)):\n",
        "            while self.aux_arr[k] > 0:\n",
        "                self.arr[i] = (k + self.min)\n",
        "                i += 1\n",
        "                self.aux_arr[k] = self.aux_arr[k] - 1\n",
        "            k += 1\n",
        "        return self.arr\n",
        "\n",
        "\n",
        "arr = [-5, 4, 0, 1, 2, -2, 4]\n",
        "q = KeyIndex(arr)\n",
        "print(q.search(6))\n",
        "print(q.search(1))\n",
        "print(q.sort())\n"
      ],
      "metadata": {
        "colab": {
          "base_uri": "https://localhost:8080/"
        },
        "id": "HInLq1KZevDw",
        "outputId": "207b8fd4-af7f-4407-803b-4df246c8a22e"
      },
      "execution_count": 4,
      "outputs": [
        {
          "output_type": "stream",
          "name": "stdout",
          "text": [
            "False\n",
            "True\n",
            "[-5, -2, 0, 1, 2, 4, 4]\n"
          ]
        }
      ]
    },
    {
      "cell_type": "code",
      "source": [
        "class Hashing:\n",
        "    def __init__(self, array, aux_arr_len):\n",
        "        self.aux_arr = [None] * aux_arr_len\n",
        "        self.array = array\n",
        "\n",
        "    def hash_func(self, given_string):\n",
        "        count = 0\n",
        "        total = 0\n",
        "        vowel_lst = [\"A\", \"E\", \"I\", \"O\", \"U\"]\n",
        "        num_lst = [\"0\", \"1\", \"2\", \"3\", \"4\", \"5\", \"6\", \"7\", \"8\", \"9\"]\n",
        "\n",
        "        for i in given_string:\n",
        "            if i not in vowel_lst and i not in num_lst:\n",
        "                count += 1\n",
        "            elif i in num_lst:\n",
        "                total += int(i)\n",
        "        value = ((count * 24) + total) % 9\n",
        "        return value\n",
        "\n",
        "    def linear_prob(self):\n",
        "        for i in self.array:\n",
        "            if self.aux_arr[self.hash_func(i)] is None:\n",
        "                self.aux_arr[self.hash_func(i)] = i\n",
        "            else:\n",
        "                start = self.hash_func(i)\n",
        "                while self.aux_arr[start] is not None:\n",
        "                    start = (start + 1) % len(self.aux_arr)\n",
        "                self.aux_arr[start] = i\n",
        "\n",
        "\n",
        "arr_1 = [\"BZDYBD\",\"ZRDYNYZ\",\"YERBBDZR\",\"ZBTRDS\",\"BTZRS\",\"ZTBRSD\",\"TBZRTRS\",\"NDTSRYR\",\"FAASDDE\"]\n",
        "a = Hashing(arr_1, 10)\n",
        "a.linear_prob()\n",
        "print(a.aux_arr)\n"
      ],
      "metadata": {
        "colab": {
          "base_uri": "https://localhost:8080/"
        },
        "id": "3eQydtU8fUtI",
        "outputId": "d93a325a-2c3c-4870-8d6e-c8c2cf59c237"
      },
      "execution_count": 3,
      "outputs": [
        {
          "output_type": "stream",
          "name": "stdout",
          "text": [
            "['BZDYBD', 'ZBTRDS', 'ZTBRSD', 'BTZRS', 'FAASDDE', None, 'ZRDYNYZ', 'YERBBDZR', 'TBZRTRS', 'NDTSRYR']\n"
          ]
        }
      ]
    }
  ]
}